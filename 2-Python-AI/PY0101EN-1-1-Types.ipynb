{
 "cells": [
  {
   "cell_type": "markdown",
   "source": "<a href=\"https://cognitiveclass.ai/\">\n    <img src=\"https://s3-api.us-geo.objectstorage.softlayer.net/cf-courses-data/CognitiveClass/PY0101EN/Ad/CCLog.png\" width=\"200\" align=\"center\">\n</a>",
   "metadata": {
    "cell_id": "8229c124-e96c-4e5b-bb08-95b2c8dc7837",
    "deepnote_cell_type": "markdown"
   }
  },
  {
   "cell_type": "markdown",
   "source": "<h1>Python - Writing Your First Python Code!</h1>",
   "metadata": {
    "cell_id": "00001-09432a01-700c-41ae-b71b-6085edafb821",
    "deepnote_cell_type": "markdown"
   }
  },
  {
   "cell_type": "markdown",
   "source": "<p><strong>Welcome!</strong> This notebook will teach you the basics of the Python programming language. Although the information presented here is quite basic, it is an important foundation that will help you read and write Python code. By the end of this notebook, you'll know the basics of Python, including how to write basic commands, understand some basic types, and how to perform simple operations on them.</p> ",
   "metadata": {
    "cell_id": "00002-6c73fafe-b11f-4b47-a8d0-c891d7dbb1b2",
    "deepnote_cell_type": "markdown"
   }
  },
  {
   "cell_type": "markdown",
   "source": "<div class=\"alert alert-block alert-info\" style=\"margin-top: 20px\">\n    <a href=\"https://cocl.us/topNotebooksPython101Coursera\">\n         <img src=\"https://s3-api.us-geo.objectstorage.softlayer.net/cf-courses-data/CognitiveClass/PY0101EN/Ad/TopAd.png\" width=\"750\" align=\"center\">\n    </a>\n</div>",
   "metadata": {
    "cell_id": "00003-2822e006-045f-4425-a07a-f49e4053a194",
    "deepnote_cell_type": "markdown"
   }
  },
  {
   "cell_type": "markdown",
   "source": "<h2>Table of Contents</h2>\n<div class=\"alert alert-block alert-info\" style=\"margin-top: 20px\">\n    <ul>\n        <li>\n            <a href=\"#hello\">Say \"Hello\" to the world in Python</a>\n            <ul>\n                <li><a href=\"version\">What version of Python are we using?</a></li>\n                <li><a href=\"comments\">Writing comments in Python</a></li>\n                <li><a href=\"errors\">Errors in Python</a></li>\n                <li><a href=\"python_error\">Does Python know about your error before it runs your code?</a></li>\n                <li><a href=\"exercise\">Exercise: Your First Program</a></li>\n            </ul>\n        </li>\n        <li>\n            <a href=\"#types_objects\">Types of objects in Python</a>\n            <ul>\n                <li><a href=\"int\">Integers</a></li>\n                <li><a href=\"float\">Floats</a></li>\n                <li><a href=\"convert\">Converting from one object type to a different object type</a></li>\n                <li><a href=\"bool\">Boolean data type</a></li>\n                <li><a href=\"exer_type\">Exercise: Types</a></li>\n            </ul>\n        </li>\n        <li>\n            <a href=\"#expressions\">Expressions and Variables</a>\n            <ul>\n                <li><a href=\"exp\">Expressions</a></li>\n                <li><a href=\"exer_exp\">Exercise: Expressions</a></li>\n                <li><a href=\"var\">Variables</a></li>\n                <li><a href=\"exer_exp_var\">Exercise: Expression and Variables in Python</a></li>\n            </ul>\n        </li>\n    </ul>\n    <p>\n        Estimated time needed: <strong>25 min</strong>\n    </p>\n</div>\n\n<hr>",
   "metadata": {
    "cell_id": "00004-05c0cb4c-2be5-46dd-adb2-ef8e0f4f98d0",
    "deepnote_cell_type": "markdown"
   }
  },
  {
   "cell_type": "markdown",
   "source": "<h2 id=\"hello\">Say \"Hello\" to the world in Python</h2>",
   "metadata": {
    "cell_id": "00005-8d85c549-db6e-4fa9-9ee1-b8839c112dd2",
    "deepnote_cell_type": "markdown"
   }
  },
  {
   "cell_type": "markdown",
   "source": "When learning a new programming language, it is customary to start with an \"hello world\" example. As simple as it is, this one line of code will ensure that we know how to print a string in output and how to execute code within cells in a notebook.",
   "metadata": {
    "cell_id": "00006-fe837268-8986-4ccb-9080-f66d6c88206e",
    "deepnote_cell_type": "markdown"
   }
  },
  {
   "cell_type": "markdown",
   "source": "<hr/>\n<div class=\"alert alert-success alertsuccess\" style=\"margin-top: 20px\">\n[Tip]: To execute the Python code in the code cell below, click on the cell to select it and press <kbd>Shift</kbd> + <kbd>Enter</kbd>.\n</div>\n<hr/>",
   "metadata": {
    "cell_id": "00007-390cf1bc-380a-4f3c-a188-3e0b0fd13aa8",
    "deepnote_cell_type": "markdown"
   }
  },
  {
   "cell_type": "code",
   "metadata": {
    "cell_id": "00008-6e5c396e-dcaa-4a7d-b24c-99ee476e2346",
    "deepnote_cell_type": "code"
   },
   "source": "# Try your first Python output\n\nprint('Hello, Python!')",
   "execution_count": 1,
   "outputs": [
    {
     "name": "stdout",
     "output_type": "stream",
     "text": "Hello, Python!\n"
    }
   ]
  },
  {
   "cell_type": "markdown",
   "source": "After executing the cell above, you should see that Python prints <code>Hello, Python!</code>. Congratulations on running your first Python code!",
   "metadata": {
    "cell_id": "00009-575d0b67-9c0e-482a-98da-f7a83aaa49a5",
    "deepnote_cell_type": "markdown"
   }
  },
  {
   "cell_type": "markdown",
   "source": "<hr/>\n<div class=\"alert alert-success alertsuccess\" style=\"margin-top: 20px\">\n    [Tip:] <code>print()</code> is a function. You passed the string <code>'Hello, Python!'</code> as an argument to instruct Python on what to print.\n</div>\n<hr/>",
   "metadata": {
    "cell_id": "00010-06620846-0235-4891-b873-abfc06757221",
    "deepnote_cell_type": "markdown"
   }
  },
  {
   "cell_type": "markdown",
   "source": "<h3 id=\"version\">What version of Python are we using?</h3>",
   "metadata": {
    "cell_id": "00011-5400e82f-2468-425d-889c-fb67e5fc641b",
    "deepnote_cell_type": "markdown"
   }
  },
  {
   "cell_type": "markdown",
   "source": "<p>\n    There are two popular versions of the Python programming language in use today: Python 2 and Python 3. The Python community has decided to move on from Python 2 to Python 3, and many popular libraries have announced that they will no longer support Python 2.\n</p>\n<p>\n    Since Python 3 is the future, in this course we will be using it exclusively. How do we know that our notebook is executed by a Python 3 runtime? We can look in the top-right hand corner of this notebook and see \"Python 3\".\n</p>\n<p>\n    We can also ask directly Python and obtain a detailed answer. Try executing the following code:\n</p>",
   "metadata": {
    "cell_id": "00012-cceed027-e6ca-4cce-a637-9c6ea8856a9c",
    "deepnote_cell_type": "markdown"
   }
  },
  {
   "cell_type": "code",
   "metadata": {
    "cell_id": "00013-ebea51e1-4866-45a0-bb37-7cdb7d5b1fce",
    "deepnote_cell_type": "code"
   },
   "source": "# Check the Python Version\n\nimport sys\nprint(sys.version)",
   "execution_count": 2,
   "outputs": [
    {
     "name": "stdout",
     "output_type": "stream",
     "text": "3.6.7 | packaged by conda-forge | (default, Nov  6 2019, 16:19:42) \n[GCC 7.3.0]\n"
    }
   ]
  },
  {
   "cell_type": "markdown",
   "source": "<hr/>\n<div class=\"alert alert-success alertsuccess\" style=\"margin-top: 20px\">\n    [Tip:] <code>sys</code> is a built-in module that contains many system-specific parameters and functions, including the Python version in use. Before using it, we must explictly <code>import</code> it.\n</div>\n<hr/>",
   "metadata": {
    "cell_id": "00014-e25bff03-057f-43f3-bbe9-52d8b2f6b75c",
    "deepnote_cell_type": "markdown"
   }
  },
  {
   "cell_type": "markdown",
   "source": "<h3 id=\"comments\">Writing comments in Python</h3>",
   "metadata": {
    "cell_id": "00015-bdb864c9-6cc6-4ed1-a31d-ebac4ab8dd93",
    "deepnote_cell_type": "markdown"
   }
  },
  {
   "cell_type": "markdown",
   "source": "<p>\n    In addition to writing code, note that it's always a good idea to add comments to your code. It will help others understand what you were trying to accomplish (the reason why you wrote a given snippet of code). Not only does this help <strong>other people</strong> understand your code, it can also serve as a reminder <strong>to you</strong> when you come back to it weeks or months later.</p>\n\n<p>\n    To write comments in Python, use the number symbol <code>#</code> before writing your comment. When you run your code, Python will ignore everything past the <code>#</code> on a given line.\n</p>",
   "metadata": {
    "cell_id": "00016-99f1108a-3a7e-440d-8a56-0802e5e0248e",
    "deepnote_cell_type": "markdown"
   }
  },
  {
   "cell_type": "code",
   "metadata": {
    "cell_id": "00017-5cc341ac-489b-4e30-85ac-4d34576a8985",
    "deepnote_cell_type": "code"
   },
   "source": "# Practice on writing comments\n\nprint('Hello, Python!') # This line prints a string\n# print('Hi')",
   "execution_count": null,
   "outputs": []
  },
  {
   "cell_type": "markdown",
   "source": "<p>\n    After executing the cell above, you should notice that <code>This line prints a string</code> did not appear in the output, because it was a comment (and thus ignored by Python).\n</p>\n<p>\n    The second line was also not executed because <code>print('Hi')</code> was preceded by the number sign (<code>#</code>) as well! Since this isn't an explanatory comment from the programmer, but an actual line of code, we might say that the programmer <em>commented out</em> that second line of code.\n</p>",
   "metadata": {
    "cell_id": "00018-9aee4583-36b3-415e-96ff-636141467568",
    "deepnote_cell_type": "markdown"
   }
  },
  {
   "cell_type": "markdown",
   "source": "<h3 id=\"errors\">Errors in Python</h3>",
   "metadata": {
    "cell_id": "00019-6701c4dd-1de2-4f63-9036-675e7d43ef9e",
    "deepnote_cell_type": "markdown"
   }
  },
  {
   "cell_type": "markdown",
   "source": "<p>Everyone makes mistakes. For many types of mistakes, Python will tell you that you have made a mistake by giving you an error message. It is important to read error messages carefully to really understand where you made a mistake and how you may go about correcting it.</p>\n<p>For example, if you spell <code>print</code> as <code>frint</code>, Python will display an error message. Give it a try:</p>",
   "metadata": {
    "cell_id": "00020-08132a68-6e03-43b5-81a1-49d01b436348",
    "deepnote_cell_type": "markdown"
   }
  },
  {
   "cell_type": "code",
   "metadata": {
    "cell_id": "00021-4c64f997-8413-4426-a3b8-631261f58099",
    "deepnote_cell_type": "code"
   },
   "source": "# Print string as error message\n\nfrint(\"Hello, Python!\")",
   "execution_count": null,
   "outputs": []
  },
  {
   "cell_type": "markdown",
   "source": "<p>The error message tells you: \n<ol>\n    <li>where the error occurred (more useful in large notebook cells or scripts), and</li> \n    <li>what kind of error it was (NameError)</li> \n</ol>\n<p>Here, Python attempted to run the function <code>frint</code>, but could not determine what <code>frint</code> is since it's not a built-in function and it has not been previously defined by us either.</p>",
   "metadata": {
    "cell_id": "00022-351a8b0e-4055-4645-bc9f-3e31f2a5ea92",
    "deepnote_cell_type": "markdown"
   }
  },
  {
   "cell_type": "markdown",
   "source": "<p>\n    You'll notice that if we make a different type of mistake, by forgetting to close the string, we'll obtain a different error (i.e., a <code>SyntaxError</code>). Try it below:\n</p>",
   "metadata": {
    "cell_id": "00023-31bc2dfc-22dc-4d4e-ae37-dd931512c9ab",
    "deepnote_cell_type": "markdown"
   }
  },
  {
   "cell_type": "code",
   "metadata": {
    "cell_id": "00024-713509bb-f6d3-4ee4-8ed8-3d27a6b416e1",
    "deepnote_cell_type": "code"
   },
   "source": "# Try to see build in error message\n\nprint(\"Hello, Python!)",
   "execution_count": null,
   "outputs": []
  },
  {
   "cell_type": "markdown",
   "source": "<h3 id=\"python_error\">Does Python know about your error before it runs your code?</h3>",
   "metadata": {
    "cell_id": "00025-63ecb06c-1ec4-4626-a52f-05661c6ca102",
    "deepnote_cell_type": "markdown"
   }
  },
  {
   "cell_type": "markdown",
   "source": "Python is what is called an <em>interpreted language</em>. Compiled languages examine your entire program at compile time, and are able to warn you about a whole class of errors prior to execution. In contrast, Python interprets your script line by line as it executes it. Python will stop executing the entire program when it encounters an error (unless the error is expected and handled by the programmer, a more advanced subject that we'll cover later on in this course).",
   "metadata": {
    "cell_id": "00026-cb6b6d2f-557a-44e8-a585-6d0bb0b52a3c",
    "deepnote_cell_type": "markdown"
   }
  },
  {
   "cell_type": "markdown",
   "source": "Try to run the code in the cell below and see what happens:",
   "metadata": {
    "cell_id": "00027-65f92ecc-4652-42aa-8437-c65aa09b0892",
    "deepnote_cell_type": "markdown"
   }
  },
  {
   "cell_type": "code",
   "metadata": {
    "cell_id": "00028-2584733f-3891-4804-af80-d8a0e44184b0",
    "deepnote_cell_type": "code"
   },
   "source": "# Print string and error to see the running order\n\nprint(\"This will be printed\")\nfrint(\"This will cause an error\")\nprint(\"This will NOT be printed\")",
   "execution_count": null,
   "outputs": []
  },
  {
   "cell_type": "markdown",
   "source": "<h3 id=\"exercise\">Exercise: Your First Program</h3>",
   "metadata": {
    "cell_id": "00029-4a168d09-d748-4ebc-8b33-9132b31e2cad",
    "deepnote_cell_type": "markdown"
   }
  },
  {
   "cell_type": "markdown",
   "source": "<p>Generations of programmers have started their coding careers by simply printing \"Hello, world!\". You will be following in their footsteps.</p>\n<p>In the code cell below, use the <code>print()</code> function to print out the phrase: <code>Hello, world!</code></p>",
   "metadata": {
    "cell_id": "00030-b0c0307c-f2e3-4c58-b15c-021d1859c76d",
    "deepnote_cell_type": "markdown"
   }
  },
  {
   "cell_type": "code",
   "metadata": {
    "cell_id": "00031-ec434d40-cdc2-410e-a6cd-fff01cc2898a",
    "deepnote_cell_type": "code"
   },
   "source": "# Write your code below and press Shift+Enter to execute ",
   "execution_count": null,
   "outputs": []
  },
  {
   "cell_type": "markdown",
   "source": "Double-click __here__ for the solution.\n\n<!-- Your answer is below:\n\nprint(\"Hello, world!\")\n\n-->",
   "metadata": {
    "cell_id": "00032-a5b8063c-813f-451f-83a5-4fa4baa9dc75",
    "deepnote_cell_type": "markdown"
   }
  },
  {
   "cell_type": "markdown",
   "source": "<p>Now, let's enhance your code with a comment. In the code cell below, print out the phrase: <code>Hello, world!</code> and comment it with the phrase <code>Print the traditional hello world</code> all in one line of code.</p>",
   "metadata": {
    "cell_id": "00033-4f85bf3a-3632-457a-bad0-2aee2cc8c6fa",
    "deepnote_cell_type": "markdown"
   }
  },
  {
   "cell_type": "code",
   "metadata": {
    "cell_id": "00034-67e91c74-f2b3-4a80-9e5c-afc1a797eb68",
    "deepnote_cell_type": "code"
   },
   "source": "# Write your code below and press Shift+Enter to execute ",
   "execution_count": null,
   "outputs": []
  },
  {
   "cell_type": "markdown",
   "source": "Double-click __here__ for the solution.\n\n<!-- Your answer is below:\n\nprint(\"Hello, world!\") # Print the traditional hello world\n\n-->\n",
   "metadata": {
    "cell_id": "00035-8a1a0c55-e3d6-4409-a8d3-cd95482db6bb",
    "deepnote_cell_type": "markdown"
   }
  },
  {
   "cell_type": "markdown",
   "source": "<hr>",
   "metadata": {
    "cell_id": "00036-8adf8dad-27f2-45df-ab82-991eb91d3ec0",
    "deepnote_cell_type": "markdown"
   }
  },
  {
   "cell_type": "markdown",
   "source": "<h2 id=\"types_objects\" align=\"center\">Types of objects in Python</h2>",
   "metadata": {
    "cell_id": "00037-f0907b1a-05a6-4f1c-91ca-aef7d15a33cb",
    "deepnote_cell_type": "markdown"
   }
  },
  {
   "cell_type": "markdown",
   "source": "<p>Python is an object-oriented language. There are many different types of objects in Python. Let's start with the most common object types: <i>strings</i>, <i>integers</i> and <i>floats</i>. Anytime you write words (text) in Python, you're using <i>character strings</i> (strings for short). The most common numbers, on the other hand, are <i>integers</i> (e.g. -1, 0, 100) and <i>floats</i>, which represent real numbers (e.g. 3.14, -42.0).</p>",
   "metadata": {
    "cell_id": "00038-41ed67d4-5dd0-4dbb-9c42-c75f0d2a9b44",
    "deepnote_cell_type": "markdown"
   }
  },
  {
   "cell_type": "markdown",
   "source": "<a align=\"center\">\n    <img src=\"https://s3-api.us-geo.objectstorage.softlayer.net/cf-courses-data/CognitiveClass/PY0101EN/Chapter%201/Images/TypesObjects.png\" width=\"600\">\n</a>",
   "metadata": {
    "cell_id": "00039-c4e91ddc-319a-4ac0-b506-1deb63d9a974",
    "deepnote_cell_type": "markdown"
   }
  },
  {
   "cell_type": "markdown",
   "source": "<p>The following code cells contain some examples.</p>",
   "metadata": {
    "cell_id": "00040-231bdac3-add0-430b-a51d-d1a0bc13a48b",
    "deepnote_cell_type": "markdown"
   }
  },
  {
   "cell_type": "code",
   "metadata": {
    "cell_id": "00041-a07c811b-c152-4e95-9477-92d4d907b24b",
    "deepnote_cell_type": "code"
   },
   "source": "# Integer\n\n11",
   "execution_count": null,
   "outputs": []
  },
  {
   "cell_type": "code",
   "metadata": {
    "cell_id": "00042-5ce266fd-a1e9-4c89-ba3b-db7cd3b1ee1d",
    "deepnote_cell_type": "code"
   },
   "source": "# Float\n\n2.14",
   "execution_count": null,
   "outputs": []
  },
  {
   "cell_type": "code",
   "metadata": {
    "cell_id": "00043-3c3a765c-90b0-4724-89c9-f39a39003899",
    "deepnote_cell_type": "code"
   },
   "source": "# String\n\n\"Hello, Python 101!\"",
   "execution_count": null,
   "outputs": []
  },
  {
   "cell_type": "markdown",
   "source": "<p>You can get Python to tell you the type of an expression by using the built-in <code>type()</code> function. You'll notice that Python refers to integers as <code>int</code>, floats as <code>float</code>, and character strings as <code>str</code>.</p>",
   "metadata": {
    "cell_id": "00044-c11f427a-e925-4a6e-a086-c56ef1d636fe",
    "deepnote_cell_type": "markdown"
   }
  },
  {
   "cell_type": "code",
   "metadata": {
    "cell_id": "00045-7f0e2417-f1c4-46c8-8601-4f2fa104e410",
    "deepnote_cell_type": "code"
   },
   "source": "# Type of 12\n\ntype(12)",
   "execution_count": null,
   "outputs": []
  },
  {
   "cell_type": "code",
   "metadata": {
    "cell_id": "00046-84e3ec20-0543-4769-8c35-54dd97050bfe",
    "deepnote_cell_type": "code"
   },
   "source": "# Type of 2.14\n\ntype(2.14)",
   "execution_count": null,
   "outputs": []
  },
  {
   "cell_type": "code",
   "metadata": {
    "cell_id": "00047-407a5af8-53d3-4d11-a652-f4fc8d10e49a",
    "deepnote_cell_type": "code"
   },
   "source": "# Type of \"Hello, Python 101!\"\n\ntype(\"Hello, Python 101!\")",
   "execution_count": null,
   "outputs": []
  },
  {
   "cell_type": "markdown",
   "source": "<p>In the code cell below, use the <code>type()</code> function to check the object type of <code>12.0</code>.",
   "metadata": {
    "cell_id": "00048-5c0819d5-1fb2-4145-ba79-0a99281659db",
    "deepnote_cell_type": "markdown"
   }
  },
  {
   "cell_type": "code",
   "metadata": {
    "cell_id": "00049-f4f834e3-234f-4457-ab74-78a724b57839",
    "deepnote_cell_type": "code"
   },
   "source": "# Write your code below. Don't forget to press Shift+Enter to execute the cell",
   "execution_count": null,
   "outputs": []
  },
  {
   "cell_type": "markdown",
   "source": "Double-click __here__ for the solution.\n\n<!-- Your answer is below:\n\ntype(12.0)\n\n-->",
   "metadata": {
    "cell_id": "00050-4d753cc5-0fb7-4849-b6bd-f9fafa90febf",
    "deepnote_cell_type": "markdown"
   }
  },
  {
   "cell_type": "markdown",
   "source": "<h3 id=\"int\">Integers</h3>",
   "metadata": {
    "cell_id": "00051-83e88960-4001-4771-b127-1eeffdc61761",
    "deepnote_cell_type": "markdown"
   }
  },
  {
   "cell_type": "markdown",
   "source": "<p>Here are some examples of integers. Integers can be negative or positive numbers:</p>",
   "metadata": {
    "cell_id": "00052-d2c3c346-cb43-4940-9ea3-9be3382fd3ee",
    "deepnote_cell_type": "markdown"
   }
  },
  {
   "cell_type": "markdown",
   "source": "<a align=\"center\">\n    <img src=\"https://s3-api.us-geo.objectstorage.softlayer.net/cf-courses-data/CognitiveClass/PY0101EN/Chapter%201/Images/TypesInt.png\" width=\"600\">\n</a>",
   "metadata": {
    "cell_id": "00053-ff538966-e212-4506-8d53-9c7eb0273c1e",
    "deepnote_cell_type": "markdown"
   }
  },
  {
   "cell_type": "markdown",
   "source": "<p>We can verify this is the case by using, you guessed it, the <code>type()</code> function:",
   "metadata": {
    "cell_id": "00054-a34d498d-3f7c-484a-905a-d851873e253a",
    "deepnote_cell_type": "markdown"
   }
  },
  {
   "cell_type": "code",
   "metadata": {
    "cell_id": "00055-c7daaf45-ca2d-4e7e-a575-d67d3833df1e",
    "deepnote_cell_type": "code"
   },
   "source": "# Print the type of -1\n\ntype(-1)",
   "execution_count": null,
   "outputs": []
  },
  {
   "cell_type": "code",
   "metadata": {
    "cell_id": "00056-18b633bc-346d-47f0-99a4-63b4c374d03c",
    "deepnote_cell_type": "code"
   },
   "source": "# Print the type of 4\n\ntype(4)",
   "execution_count": null,
   "outputs": []
  },
  {
   "cell_type": "code",
   "metadata": {
    "cell_id": "00057-e53b333a-a04e-412b-8c14-3852751dac21",
    "deepnote_cell_type": "code"
   },
   "source": "# Print the type of 0\n\ntype(0)",
   "execution_count": null,
   "outputs": []
  },
  {
   "cell_type": "markdown",
   "source": "<h3 id=\"float\">Floats</h3> ",
   "metadata": {
    "cell_id": "00058-ff710eb7-2c2a-4050-89ba-c8bfc8d016d6",
    "deepnote_cell_type": "markdown"
   }
  },
  {
   "cell_type": "markdown",
   "source": "<p>Floats represent real numbers; they are a superset of integer numbers but also include \"numbers with decimals\". There are some limitations when it comes to machines representing real numbers, but floating point numbers are a good representation in most cases. You can learn more about the specifics of floats for your runtime environment, by checking the value of <code>sys.float_info</code>. This will also tell you what's the largest and smallest number that can be represented with them.</p>\n\n<p>Once again, can test some examples with the <code>type()</code> function:",
   "metadata": {
    "cell_id": "00059-906750f5-9a80-4519-914d-9f3a9569cfa3",
    "deepnote_cell_type": "markdown"
   }
  },
  {
   "cell_type": "code",
   "metadata": {
    "cell_id": "00060-0a6b312a-c1c2-4c9a-86fb-5407c797c2ce",
    "deepnote_cell_type": "code"
   },
   "source": "# Print the type of 1.0\n\ntype(1.0) # Notice that 1 is an int, and 1.0 is a float",
   "execution_count": null,
   "outputs": []
  },
  {
   "cell_type": "code",
   "metadata": {
    "cell_id": "00061-55d08a6b-d5dc-4205-af20-854368e137a2",
    "deepnote_cell_type": "code"
   },
   "source": "# Print the type of 0.5\n\ntype(0.5)",
   "execution_count": null,
   "outputs": []
  },
  {
   "cell_type": "code",
   "metadata": {
    "cell_id": "00062-261efc8f-6405-442b-a80d-ff9d047a223b",
    "deepnote_cell_type": "code"
   },
   "source": "# Print the type of 0.56\n\ntype(0.56)",
   "execution_count": null,
   "outputs": []
  },
  {
   "cell_type": "code",
   "metadata": {
    "cell_id": "00063-ec724cce-b4f7-44b0-9286-9169c784d713",
    "deepnote_cell_type": "code"
   },
   "source": "# System settings about float type\n\nsys.float_info",
   "execution_count": null,
   "outputs": []
  },
  {
   "cell_type": "markdown",
   "source": "<h3 id=\"convert\">Converting from one object type to a different object type</h3>",
   "metadata": {
    "cell_id": "00064-243f1b78-19ee-464d-8c39-b68d3ae3017c",
    "deepnote_cell_type": "markdown"
   }
  },
  {
   "cell_type": "markdown",
   "source": "<p>You can change the type of the object in Python; this is called typecasting. For example, you can convert an <i>integer</i> into a <i>float</i> (e.g. 2 to 2.0).</p>\n<p>Let's try it:</p>",
   "metadata": {
    "cell_id": "00065-82633fb0-5b32-4906-bbbb-d08f08c8b700",
    "deepnote_cell_type": "markdown"
   }
  },
  {
   "cell_type": "code",
   "metadata": {
    "cell_id": "00066-4ad0d04b-3ad1-42f8-8be6-b9cfcbc04f89",
    "deepnote_cell_type": "code"
   },
   "source": "# Verify that this is an integer\n\ntype(2)",
   "execution_count": null,
   "outputs": []
  },
  {
   "cell_type": "markdown",
   "source": "<h4>Converting integers to floats</h4>\n<p>Let's cast integer 2 to float:</p>",
   "metadata": {
    "cell_id": "00067-d8a32084-1c5e-4f97-b1d0-fbb3132527f9",
    "deepnote_cell_type": "markdown"
   }
  },
  {
   "cell_type": "code",
   "metadata": {
    "cell_id": "00068-bb79e82e-0c35-4c7e-a789-a3ceeed319f8",
    "deepnote_cell_type": "code"
   },
   "source": "# Convert 2 to a float\n\nfloat(2)",
   "execution_count": null,
   "outputs": []
  },
  {
   "cell_type": "code",
   "metadata": {
    "cell_id": "00069-26a59797-c144-4d71-9b86-51588e2064bb",
    "deepnote_cell_type": "code"
   },
   "source": "# Convert integer 2 to a float and check its type\n\ntype(float(2))",
   "execution_count": null,
   "outputs": []
  },
  {
   "cell_type": "markdown",
   "source": "<p>When we convert an integer into a float, we don't really change the value (i.e., the significand) of the number. However, if we cast a float into an integer, we could potentially lose some information. For example, if we cast the float 1.1 to integer we will get 1 and lose the decimal information (i.e., 0.1):</p>",
   "metadata": {
    "cell_id": "00070-947c5bdd-4610-4d1e-b03a-503ed3b1b114",
    "deepnote_cell_type": "markdown"
   }
  },
  {
   "cell_type": "code",
   "metadata": {
    "cell_id": "00071-ea7b8ba5-5e61-4f96-8dae-40e4188c7d6e",
    "deepnote_cell_type": "code"
   },
   "source": "# Casting 1.1 to integer will result in loss of information\n\nint(1.1)",
   "execution_count": null,
   "outputs": []
  },
  {
   "cell_type": "markdown",
   "source": "<h4>Converting from strings to integers or floats</h4>",
   "metadata": {
    "cell_id": "00072-96d4af23-0829-47dc-9db1-eaf3fc0206b8",
    "deepnote_cell_type": "markdown"
   }
  },
  {
   "cell_type": "markdown",
   "source": "<p>Sometimes, we can have a string that contains a number within it. If this is the case, we can cast that string that represents a number into an integer using <code>int()</code>:</p>",
   "metadata": {
    "cell_id": "00073-369ca9c6-3632-4f64-b3ee-dd3fa4b8a2ad",
    "deepnote_cell_type": "markdown"
   }
  },
  {
   "cell_type": "code",
   "metadata": {
    "cell_id": "00074-e0c56bee-2e48-4d3c-aec2-94ce3f8b1877",
    "deepnote_cell_type": "code"
   },
   "source": "# Convert a string into an integer\n\nint('1')",
   "execution_count": null,
   "outputs": []
  },
  {
   "cell_type": "markdown",
   "source": "<p>But if you try to do so with a string that is not a perfect match for a number, you'll get an error. Try the following:</p>",
   "metadata": {
    "cell_id": "00075-f0a61030-41b7-4e45-aa9c-614ea59a49d2",
    "deepnote_cell_type": "markdown"
   }
  },
  {
   "cell_type": "code",
   "metadata": {
    "cell_id": "00076-90666a95-72fc-4de5-9643-47b27967131c",
    "deepnote_cell_type": "code"
   },
   "source": "# Convert a string into an integer with error\n\nint('1 or 2 people')",
   "execution_count": null,
   "outputs": []
  },
  {
   "cell_type": "markdown",
   "source": "<p>You can also convert strings containing floating point numbers into <i>float</i> objects:</p>",
   "metadata": {
    "cell_id": "00077-41e788f4-ac84-4de4-92a0-8116b31a30c7",
    "deepnote_cell_type": "markdown"
   }
  },
  {
   "cell_type": "code",
   "metadata": {
    "cell_id": "00078-b23a0f76-eaef-46b9-9eac-c5c903b9122b",
    "deepnote_cell_type": "code"
   },
   "source": "# Convert the string \"1.2\" into a float\n\nfloat('1.2')",
   "execution_count": null,
   "outputs": []
  },
  {
   "cell_type": "markdown",
   "source": "<hr/>\n<div class=\"alert alert-success alertsuccess\" style=\"margin-top: 20px\">\n    [Tip:] Note that strings can be represented with single quotes (<code>'1.2'</code>) or double quotes (<code>\"1.2\"</code>), but you can't mix both (e.g., <code>\"1.2'</code>).\n</div>\n<hr/>",
   "metadata": {
    "cell_id": "00079-6101ed2a-4547-4509-8cdc-b869ed254dde",
    "deepnote_cell_type": "markdown"
   }
  },
  {
   "cell_type": "markdown",
   "source": "<h4>Converting numbers to strings</h4>",
   "metadata": {
    "cell_id": "00080-81ebf7ce-53ad-4ed0-9e9a-89daffc49e77",
    "deepnote_cell_type": "markdown"
   }
  },
  {
   "cell_type": "markdown",
   "source": "<p>If we can convert strings to numbers, it is only natural to assume that we can convert numbers to strings, right?</p>",
   "metadata": {
    "cell_id": "00081-973ea425-cfdd-4954-a36e-dd1c9d35e387",
    "deepnote_cell_type": "markdown"
   }
  },
  {
   "cell_type": "code",
   "metadata": {
    "cell_id": "00082-4569fb16-5153-4ff7-862a-248f30026d4d",
    "deepnote_cell_type": "code"
   },
   "source": "# Convert an integer to a string\n\nstr(1)",
   "execution_count": null,
   "outputs": []
  },
  {
   "cell_type": "markdown",
   "source": "<p>And there is no reason why we shouldn't be able to make floats into strings as well:</p> ",
   "metadata": {
    "cell_id": "00083-2ff9d08e-b72e-4bbb-bb63-69028a5415f4",
    "deepnote_cell_type": "markdown"
   }
  },
  {
   "cell_type": "code",
   "metadata": {
    "cell_id": "00084-c1f33de1-3f79-45ab-943e-deac67f6ca23",
    "deepnote_cell_type": "code"
   },
   "source": "# Convert a float to a string\n\nstr(1.2)",
   "execution_count": null,
   "outputs": []
  },
  {
   "cell_type": "markdown",
   "source": "<h3 id=\"bool\">Boolean data type</h3>",
   "metadata": {
    "cell_id": "00085-5d2705dd-1441-4170-b8a0-d1596998c1fa",
    "deepnote_cell_type": "markdown"
   }
  },
  {
   "cell_type": "markdown",
   "source": "<p><i>Boolean</i> is another important type in Python. An object of type <i>Boolean</i> can take on one of two values: <code>True</code> or <code>False</code>:</p>",
   "metadata": {
    "cell_id": "00086-88762602-3481-4a1f-aedb-9fed8fbc210c",
    "deepnote_cell_type": "markdown"
   }
  },
  {
   "cell_type": "code",
   "metadata": {
    "cell_id": "00087-b328b3fe-a772-4c94-b5f6-0a9ab6df9c44",
    "deepnote_cell_type": "code"
   },
   "source": "# Value true\n\nTrue",
   "execution_count": null,
   "outputs": []
  },
  {
   "cell_type": "markdown",
   "source": "<p>Notice that the value <code>True</code> has an uppercase \"T\". The same is true for <code>False</code> (i.e. you must use the uppercase \"F\").</p>",
   "metadata": {
    "cell_id": "00088-87370dfc-b961-4ae4-8d75-8521babb00a5",
    "deepnote_cell_type": "markdown"
   }
  },
  {
   "cell_type": "code",
   "metadata": {
    "cell_id": "00089-59d7aaab-b910-4762-9201-7cfb53fcad63",
    "deepnote_cell_type": "code"
   },
   "source": "# Value false\n\nFalse",
   "execution_count": null,
   "outputs": []
  },
  {
   "cell_type": "markdown",
   "source": "<p>When you ask Python to display the type of a boolean object it will show <code>bool</code> which stands for <i>boolean</i>:</p> ",
   "metadata": {
    "cell_id": "00090-728d1776-1307-4b32-9df0-740256b5b777",
    "deepnote_cell_type": "markdown"
   }
  },
  {
   "cell_type": "code",
   "metadata": {
    "cell_id": "00091-7f6a4254-e09e-4470-a9ed-5a9918a5e911",
    "deepnote_cell_type": "code"
   },
   "source": "# Type of True\n\ntype(True)",
   "execution_count": null,
   "outputs": []
  },
  {
   "cell_type": "code",
   "metadata": {
    "cell_id": "00092-0de5f33c-9804-400b-979b-63843a482b74",
    "deepnote_cell_type": "code"
   },
   "source": "# Type of False\n\ntype(False)",
   "execution_count": null,
   "outputs": []
  },
  {
   "cell_type": "markdown",
   "source": "<p>We can cast boolean objects to other data types. If we cast a boolean with a value of <code>True</code> to an integer or float we will get a one. If we cast a boolean with a value of <code>False</code> to an integer or float we will get a zero. Similarly, if we cast a 1 to a Boolean, you get a <code>True</code>. And if we cast a 0 to a Boolean we will get a <code>False</code>. Let's give it a try:</p> ",
   "metadata": {
    "cell_id": "00093-0ec2fcf9-0271-4bb3-86c0-335d2f8507c6",
    "deepnote_cell_type": "markdown"
   }
  },
  {
   "cell_type": "code",
   "metadata": {
    "cell_id": "00094-5e3d0c61-470f-420b-af88-d75b0abc0817",
    "deepnote_cell_type": "code"
   },
   "source": "# Convert True to int\n\nint(True)",
   "execution_count": null,
   "outputs": []
  },
  {
   "cell_type": "code",
   "metadata": {
    "cell_id": "00095-e02ac46a-97d8-448c-aed6-293c9a72f520",
    "deepnote_cell_type": "code"
   },
   "source": "# Convert 1 to boolean\n\nbool(1)",
   "execution_count": null,
   "outputs": []
  },
  {
   "cell_type": "code",
   "metadata": {
    "cell_id": "00096-c0592bcf-59e5-4a97-ad8e-6639714addf8",
    "deepnote_cell_type": "code"
   },
   "source": "# Convert 0 to boolean\n\nbool(0)",
   "execution_count": null,
   "outputs": []
  },
  {
   "cell_type": "code",
   "metadata": {
    "cell_id": "00097-5bbd91a1-08b2-4609-81b0-ef918350980f",
    "deepnote_cell_type": "code"
   },
   "source": "# Convert True to float\n\nfloat(True)",
   "execution_count": null,
   "outputs": []
  },
  {
   "cell_type": "markdown",
   "source": "<h3 id=\"exer_type\">Exercise: Types</h3>",
   "metadata": {
    "cell_id": "00098-289b07b1-6fa9-4aac-b594-31d47769eafb",
    "deepnote_cell_type": "markdown"
   }
  },
  {
   "cell_type": "markdown",
   "source": "<p>What is the data type of the result of: <code>6 / 2</code>?</p>",
   "metadata": {
    "cell_id": "00099-b7467f57-b388-4b07-9710-9bc8a4ef76be",
    "deepnote_cell_type": "markdown"
   }
  },
  {
   "cell_type": "code",
   "metadata": {
    "cell_id": "00100-3522299d-4f27-4def-bc32-58b1e4ba5974",
    "deepnote_cell_type": "code"
   },
   "source": "# Write your code below. Don't forget to press Shift+Enter to execute the cell",
   "execution_count": null,
   "outputs": []
  },
  {
   "cell_type": "markdown",
   "source": "Double-click __here__ for the solution.\n\n<!-- Your answer is below:\ntype(6/2) # float\n-->",
   "metadata": {
    "cell_id": "00101-1175238e-fac7-4134-aa49-92061d2d9f87",
    "deepnote_cell_type": "markdown"
   }
  },
  {
   "cell_type": "markdown",
   "source": "<p>What is the type of the result of: <code>6 // 2</code>? (Note the double slash <code>//</code>.)</p>",
   "metadata": {
    "cell_id": "00102-c36ff3cb-e170-4e90-b78b-a3e2021352f0",
    "deepnote_cell_type": "markdown"
   }
  },
  {
   "cell_type": "code",
   "metadata": {
    "cell_id": "00103-1a30a219-c17a-4245-aa45-0b23d847b88d",
    "deepnote_cell_type": "code"
   },
   "source": "# Write your code below. Don't forget to press Shift+Enter to execute the cell",
   "execution_count": null,
   "outputs": []
  },
  {
   "cell_type": "markdown",
   "source": "Double-click __here__ for the solution.\n\n<!-- Your answer is below:\ntype(6//2) # int, as the double slashes stand for integer division \n-->",
   "metadata": {
    "cell_id": "00104-afa2baf3-2fd9-43c0-8076-958f3111f708",
    "deepnote_cell_type": "markdown"
   }
  },
  {
   "cell_type": "markdown",
   "source": "<hr>",
   "metadata": {
    "cell_id": "00105-ae7f98b4-3f73-4608-9f9b-3858de4774d0",
    "deepnote_cell_type": "markdown"
   }
  },
  {
   "cell_type": "markdown",
   "source": "<h2 id=\"expressions\">Expression and Variables</h2>",
   "metadata": {
    "cell_id": "00106-48b56f64-d36a-4c6a-8a91-4b45a1d3d847",
    "deepnote_cell_type": "markdown"
   }
  },
  {
   "cell_type": "markdown",
   "source": "<h3 id=\"exp\">Expressions</h3>",
   "metadata": {
    "cell_id": "00107-e66879e3-ab5c-4d94-adfa-08edb0525064",
    "deepnote_cell_type": "markdown"
   }
  },
  {
   "cell_type": "markdown",
   "source": "<p>Expressions in Python can include operations among compatible types (e.g., integers and floats). For example, basic arithmetic operations like adding multiple numbers:</p>",
   "metadata": {
    "cell_id": "00108-96f1586a-21cb-4443-8d6f-f6ac50c85b8c",
    "deepnote_cell_type": "markdown"
   }
  },
  {
   "cell_type": "code",
   "metadata": {
    "cell_id": "00109-bc1a7f67-9c36-40bb-9001-7f507a840976",
    "deepnote_cell_type": "code"
   },
   "source": "# Addition operation expression\n\n43 + 60 + 16 + 41",
   "execution_count": null,
   "outputs": []
  },
  {
   "cell_type": "markdown",
   "source": "<p>We can perform subtraction operations using the minus operator. In this case the result is a negative number:</p>",
   "metadata": {
    "cell_id": "00110-4ff66027-d8e3-4e5d-8782-4fe94161fb5a",
    "deepnote_cell_type": "markdown"
   }
  },
  {
   "cell_type": "code",
   "metadata": {
    "cell_id": "00111-18c89bee-16a1-4c0d-91f6-db91796daf0f",
    "deepnote_cell_type": "code"
   },
   "source": "# Subtraction operation expression\n\n50 - 60",
   "execution_count": null,
   "outputs": []
  },
  {
   "cell_type": "markdown",
   "source": "<p>We can do multiplication using an asterisk:</p>",
   "metadata": {
    "cell_id": "00112-677f9b49-58ba-46ea-b522-ee2c22979d8a",
    "deepnote_cell_type": "markdown"
   }
  },
  {
   "cell_type": "code",
   "metadata": {
    "cell_id": "00113-1ac588ef-9734-47b7-846b-74d4a3db98d8",
    "deepnote_cell_type": "code"
   },
   "source": "# Multiplication operation expression\n\n5 * 5",
   "execution_count": null,
   "outputs": []
  },
  {
   "cell_type": "markdown",
   "source": "<p>We can also perform division with the forward slash:",
   "metadata": {
    "cell_id": "00114-f8a5d957-8509-4c2a-a580-44a8ee448afb",
    "deepnote_cell_type": "markdown"
   }
  },
  {
   "cell_type": "code",
   "metadata": {
    "cell_id": "00115-fdc3b2ee-1ee2-40ce-95ed-187284dedb52",
    "deepnote_cell_type": "code"
   },
   "source": "# Division operation expression\n\n25 / 5",
   "execution_count": null,
   "outputs": []
  },
  {
   "cell_type": "code",
   "metadata": {
    "cell_id": "00116-68aaf594-865d-430d-9c5c-f8ea6650e46b",
    "deepnote_cell_type": "code"
   },
   "source": "# Division operation expression\n\n25 / 6",
   "execution_count": null,
   "outputs": []
  },
  {
   "cell_type": "markdown",
   "source": "<p>As seen in the quiz above, we can use the double slash for integer division, where the result is rounded to the nearest integer:",
   "metadata": {
    "cell_id": "00117-300915c6-aecb-4bf3-a407-cc84ba2f5e9f",
    "deepnote_cell_type": "markdown"
   }
  },
  {
   "cell_type": "code",
   "metadata": {
    "cell_id": "00118-b86dcc50-3ad5-4c6b-8659-70f98383dfcf",
    "deepnote_cell_type": "code"
   },
   "source": "# Integer division operation expression\n\n25 // 5",
   "execution_count": null,
   "outputs": []
  },
  {
   "cell_type": "code",
   "metadata": {
    "cell_id": "00119-7c9c94dc-4eb1-4410-9fab-c88739271412",
    "deepnote_cell_type": "code"
   },
   "source": "# Integer division operation expression\n\n25 // 6",
   "execution_count": null,
   "outputs": []
  },
  {
   "cell_type": "markdown",
   "source": "<h3 id=\"exer_exp\">Exercise: Expression</h3>",
   "metadata": {
    "cell_id": "00120-861dc185-5c6d-414f-bda4-729fe51a3ef1",
    "deepnote_cell_type": "markdown"
   }
  },
  {
   "cell_type": "markdown",
   "source": "<p>Let's write an expression that calculates how many hours there are in 160 minutes:",
   "metadata": {
    "cell_id": "00121-1c0802eb-7874-48e9-8ca5-67a87074343f",
    "deepnote_cell_type": "markdown"
   }
  },
  {
   "cell_type": "code",
   "metadata": {
    "cell_id": "00122-6a5a3dff-1e6d-4cf3-baa6-6495d70be789",
    "deepnote_cell_type": "code"
   },
   "source": "# Write your code below. Don't forget to press Shift+Enter to execute the cell",
   "execution_count": null,
   "outputs": []
  },
  {
   "cell_type": "markdown",
   "source": "Double-click __here__ for the solution.\n\n<!-- Your answer is below:\n160/60 \n# Or \n160//60\n-->",
   "metadata": {
    "cell_id": "00123-8536a4a6-36f4-4dca-8849-c7d27bc613db",
    "deepnote_cell_type": "markdown"
   }
  },
  {
   "cell_type": "markdown",
   "source": "<p>Python follows well accepted mathematical conventions when evaluating mathematical expressions. In the following example, Python adds 30 to the result of the multiplication (i.e., 120).",
   "metadata": {
    "cell_id": "00124-601d4ebf-8fdf-4066-8aee-dc5d600d9b14",
    "deepnote_cell_type": "markdown"
   }
  },
  {
   "cell_type": "code",
   "metadata": {
    "cell_id": "00125-18210995-5ac3-41e7-a176-6f4d161f36e5",
    "deepnote_cell_type": "code"
   },
   "source": "# Mathematical expression\n\n30 + 2 * 60",
   "execution_count": null,
   "outputs": []
  },
  {
   "cell_type": "markdown",
   "source": "<p>And just like mathematics, expressions enclosed in parentheses have priority. So the following multiplies 32 by 60.",
   "metadata": {
    "cell_id": "00126-4a3cd1bd-7053-4766-9835-ce319308fbb2",
    "deepnote_cell_type": "markdown"
   }
  },
  {
   "cell_type": "code",
   "metadata": {
    "cell_id": "00127-259e0b3f-454f-4449-ba9e-9d0ae49060fa",
    "deepnote_cell_type": "code"
   },
   "source": "# Mathematical expression\n\n(30 + 2) * 60",
   "execution_count": null,
   "outputs": []
  },
  {
   "cell_type": "markdown",
   "source": "<h3 id=\"var\">Variables</h3>",
   "metadata": {
    "cell_id": "00128-ba3de03e-b6ef-4487-9eb3-b61a74e83516",
    "deepnote_cell_type": "markdown"
   }
  },
  {
   "cell_type": "markdown",
   "source": "<p>Just like with most programming languages, we can store values in <i>variables</i>, so we can use them later on. For example:</p>",
   "metadata": {
    "cell_id": "00129-c8eb1736-ad70-4380-b5c3-ef7cb1487d15",
    "deepnote_cell_type": "markdown"
   }
  },
  {
   "cell_type": "code",
   "metadata": {
    "cell_id": "00130-e703caf1-5285-4d4c-9790-fa9c1d63a867",
    "deepnote_cell_type": "code"
   },
   "source": "# Store value into variable\n\nx = 43 + 60 + 16 + 41",
   "execution_count": null,
   "outputs": []
  },
  {
   "cell_type": "markdown",
   "source": "<p>To see the value of <code>x</code> in a Notebook, we can simply place it on the last line of a cell:</p>",
   "metadata": {
    "cell_id": "00131-23a2bdce-e3c4-474b-8021-6307c24eb2cf",
    "deepnote_cell_type": "markdown"
   }
  },
  {
   "cell_type": "code",
   "metadata": {
    "cell_id": "00132-90ff5000-cb64-442f-bcf0-d44b0f4fdba9",
    "deepnote_cell_type": "code"
   },
   "source": "# Print out the value in variable\n\nx",
   "execution_count": null,
   "outputs": []
  },
  {
   "cell_type": "markdown",
   "source": "<p>We can also perform operations on <code>x</code> and save the result to a new variable:</p>",
   "metadata": {
    "cell_id": "00133-802f23a3-61d1-4cbe-89c2-b013f5f3b319",
    "deepnote_cell_type": "markdown"
   }
  },
  {
   "cell_type": "code",
   "metadata": {
    "cell_id": "00134-bc3d2132-0fa3-4844-a53b-a9c58d9f6300",
    "deepnote_cell_type": "code"
   },
   "source": "# Use another variable to store the result of the operation between variable and value\n\ny = x / 60\ny",
   "execution_count": null,
   "outputs": []
  },
  {
   "cell_type": "markdown",
   "source": "<p>If we save a value to an existing variable, the new value will overwrite the previous value:</p>",
   "metadata": {
    "cell_id": "00135-c8a8dd85-459a-4804-a7a9-f9a1924445ab",
    "deepnote_cell_type": "markdown"
   }
  },
  {
   "cell_type": "code",
   "metadata": {
    "cell_id": "00136-7abce7bf-358f-4b50-89e6-9238055803bc",
    "deepnote_cell_type": "code"
   },
   "source": "# Overwrite variable with new value\n\nx = x / 60\nx",
   "execution_count": null,
   "outputs": []
  },
  {
   "cell_type": "markdown",
   "source": "<p>It's a good practice to use meaningful variable names, so you and others can read the code and understand it more easily:</p>",
   "metadata": {
    "cell_id": "00137-06ac2c7b-fcbb-47c1-baef-49c076f59a86",
    "deepnote_cell_type": "markdown"
   }
  },
  {
   "cell_type": "code",
   "metadata": {
    "cell_id": "00138-ad52a068-1cc8-46e4-9c73-76a29df7e7a4",
    "deepnote_cell_type": "code"
   },
   "source": "# Name the variables meaningfully\n\ntotal_min = 43 + 42 + 57 # Total length of albums in minutes\ntotal_min",
   "execution_count": null,
   "outputs": []
  },
  {
   "cell_type": "code",
   "metadata": {
    "cell_id": "00139-7f18188c-ac87-4544-b7ee-9a1d34d37d2d",
    "deepnote_cell_type": "code"
   },
   "source": "# Name the variables meaningfully\n\ntotal_hours = total_min / 60 # Total length of albums in hours \ntotal_hours",
   "execution_count": null,
   "outputs": []
  },
  {
   "cell_type": "markdown",
   "source": "<p>In the cells above we added the length of three albums in minutes and stored it in <code>total_min</code>. We then divided it by 60 to calculate total length <code>total_hours</code> in hours. You can also do it all at once in a single expression, as long as you use parenthesis to add the albums length before you divide, as shown below.</p>",
   "metadata": {
    "cell_id": "00140-895c782b-58fd-47a6-a89d-de22ec3ab3be",
    "deepnote_cell_type": "markdown"
   }
  },
  {
   "cell_type": "code",
   "metadata": {
    "cell_id": "00141-79afcfa4-b486-4f2d-ad6b-07170f5b8043",
    "deepnote_cell_type": "code"
   },
   "source": "# Complicate expression\n\ntotal_hours = (43 + 42 + 57) / 60  # Total hours in a single expression\ntotal_hours",
   "execution_count": null,
   "outputs": []
  },
  {
   "cell_type": "markdown",
   "source": "<p>If you'd rather have total hours as an integer, you can of course replace the floating point division with integer division (i.e., <code>//</code>).</p>",
   "metadata": {
    "cell_id": "00142-4e85e950-8e93-43b4-b8d7-b7aced0394ae",
    "deepnote_cell_type": "markdown"
   }
  },
  {
   "cell_type": "markdown",
   "source": "<h3 id=\"exer_exp_var\">Exercise: Expression and Variables in Python</h3>",
   "metadata": {
    "cell_id": "00143-86c26512-b3e1-43a5-8a94-94d8e5021aa5",
    "deepnote_cell_type": "markdown"
   }
  },
  {
   "cell_type": "markdown",
   "source": "<p>What is the value of <code>x</code> where <code>x = 3 + 2 * 2</code></p>",
   "metadata": {
    "cell_id": "00144-4cf8ad5f-9ad0-42c1-9b9e-7fdc74b5d660",
    "deepnote_cell_type": "markdown"
   }
  },
  {
   "cell_type": "code",
   "metadata": {
    "cell_id": "00145-c05519d0-75d8-4a17-9460-6bb60eb53b34",
    "deepnote_cell_type": "code"
   },
   "source": "# Write your code below. Don't forget to press Shift+Enter to execute the cell",
   "execution_count": null,
   "outputs": []
  },
  {
   "cell_type": "markdown",
   "source": "Double-click __here__ for the solution.\n\n<!-- Your answer is below:\n7\n-->\n",
   "metadata": {
    "cell_id": "00146-adbd18bc-d2a6-4e6c-92d2-2fa8a08a4e0d",
    "deepnote_cell_type": "markdown"
   }
  },
  {
   "cell_type": "markdown",
   "source": "<p>What is the value of <code>y</code> where <code>y = (3 + 2) * 2</code>?</p>",
   "metadata": {
    "cell_id": "00147-f2095188-f1b1-464f-b0b1-db9e50be1187",
    "deepnote_cell_type": "markdown"
   }
  },
  {
   "cell_type": "code",
   "metadata": {
    "cell_id": "00148-305ed44c-4ae1-45a2-aed2-0926b801104a",
    "deepnote_cell_type": "code"
   },
   "source": "# Write your code below. Don't forget to press Shift+Enter to execute the cell",
   "execution_count": null,
   "outputs": []
  },
  {
   "cell_type": "markdown",
   "source": "Double-click __here__ for the solution.\n\n<!-- Your answer is below:\n10\n-->",
   "metadata": {
    "cell_id": "00149-4b022394-cb44-40e8-9a1a-90014a6297a7",
    "deepnote_cell_type": "markdown"
   }
  },
  {
   "cell_type": "markdown",
   "source": "<p>What is the value of <code>z</code> where <code>z = x + y</code>?</p>",
   "metadata": {
    "cell_id": "00150-8c0dfa56-7dd5-49bf-8981-50ed51b165a7",
    "deepnote_cell_type": "markdown"
   }
  },
  {
   "cell_type": "code",
   "metadata": {
    "cell_id": "00151-aaf87e5a-3f22-4694-bc6b-6aa3786fa9a9",
    "deepnote_cell_type": "code"
   },
   "source": "# Write your code below. Don't forget to press Shift+Enter to execute the cell",
   "execution_count": null,
   "outputs": []
  },
  {
   "cell_type": "markdown",
   "source": "Double-click __here__ for the solution.\n\n<!-- Your answer is below:\n17\n-->",
   "metadata": {
    "cell_id": "00152-45c8dadb-1970-4ffb-998b-d7969656a444",
    "deepnote_cell_type": "markdown"
   }
  },
  {
   "cell_type": "markdown",
   "source": "<hr>\n<h2>The last exercise!</h2>\n<p>Congratulations, you have completed your first lesson and hands-on lab in Python. However, there is one more thing you need to do. The Data Science community encourages sharing work. The best way to share and showcase your work is to share it on GitHub. By sharing your notebook on GitHub you are not only building your reputation with fellow data scientists, but you can also show it off when applying for a job. Even though this was your first piece of work, it is never too early to start building good habits. So, please read and follow <a href=\"https://cognitiveclass.ai/blog/data-scientists-stand-out-by-sharing-your-notebooks/\" target=\"_blank\">this article</a> to learn how to share your work.\n<hr>",
   "metadata": {
    "cell_id": "00153-ae87cf34-c8e6-402b-8048-9ff0d4f9cb8f",
    "deepnote_cell_type": "markdown"
   }
  },
  {
   "cell_type": "markdown",
   "source": "<div class=\"alert alert-block alert-info\" style=\"margin-top: 20px\">\n<h2>Get IBM Watson Studio free of charge!</h2>\n    <p><a href=\"https://cocl.us/bottemNotebooksPython101Coursera\"><img src=\"https://s3-api.us-geo.objectstorage.softlayer.net/cf-courses-data/CognitiveClass/PY0101EN/Ad/BottomAd.png\" width=\"750\" align=\"center\"></a></p>\n</div>",
   "metadata": {
    "cell_id": "00154-05c0b35e-e8c1-4142-ad8d-c2e284f38bc4",
    "deepnote_cell_type": "markdown"
   }
  },
  {
   "cell_type": "markdown",
   "source": "<h3>About the Authors:</h3>  \n<p><a href=\"https://www.linkedin.com/in/joseph-s-50398b136/\" target=\"_blank\">Joseph Santarcangelo</a> is a Data Scientist at IBM, and holds a PhD in Electrical Engineering. His research focused on using Machine Learning, Signal Processing, and Computer Vision to determine how videos impact human cognition. Joseph has been working for IBM since he completed his PhD.</p>",
   "metadata": {
    "cell_id": "00155-4ebcffa5-8e23-4ee9-a501-48338b789945",
    "deepnote_cell_type": "markdown"
   }
  },
  {
   "cell_type": "markdown",
   "source": "Other contributors: <a href=\"www.linkedin.com/in/jiahui-mavis-zhou-a4537814a\">Mavis Zhou</a>",
   "metadata": {
    "cell_id": "00156-38556d47-e419-4125-9d68-aa9ea7274442",
    "deepnote_cell_type": "markdown"
   }
  },
  {
   "cell_type": "markdown",
   "source": "<hr>\n<p>Copyright &copy; 2018 IBM Developer Skills Network. This notebook and its source code are released under the terms of the <a href=\"https://cognitiveclass.ai/mit-license/\">MIT License</a>.</p>",
   "metadata": {
    "cell_id": "00157-c528eb25-d9f0-4f87-8a1e-e3089f0a49f0",
    "deepnote_cell_type": "markdown"
   }
  },
  {
   "cell_type": "markdown",
   "source": "<a style='text-decoration:none;line-height:16px;display:flex;color:#5B5B62;padding:10px;justify-content:end;' href='https://deepnote.com?utm_source=created-in-deepnote-cell&projectId=04214720-281e-4c50-9595-34ca051acd69' target=\"_blank\">\n<img alt='Created in deepnote.com' style='display:inline;max-height:16px;margin:0px;margin-right:7.5px;' src='data:image/svg+xml;base64,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' > </img>\nCreated in <span style='font-weight:600;margin-left:4px;'>Deepnote</span></a>",
   "metadata": {
    "tags": [],
    "created_in_deepnote_cell": true,
    "deepnote_cell_type": "markdown"
   }
  }
 ],
 "nbformat": 4,
 "nbformat_minor": 4,
 "metadata": {
  "kernelspec": {
   "display_name": "Python",
   "language": "python",
   "name": "conda-env-python-py"
  },
  "language_info": {
   "codemirror_mode": {
    "name": "ipython",
    "version": 3
   },
   "file_extension": ".py",
   "mimetype": "text/x-python",
   "name": "python",
   "nbconvert_exporter": "python",
   "pygments_lexer": "ipython3",
   "version": "3.6.7"
  },
  "deepnote_notebook_id": "67fa3cd1-e34e-4d67-94ba-0495f5297dda",
  "deepnote": {},
  "deepnote_execution_queue": []
 }
}