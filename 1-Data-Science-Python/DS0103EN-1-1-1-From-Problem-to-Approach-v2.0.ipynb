{
 "cells": [
  {
   "cell_type": "markdown",
   "source": "<a href=\"https://cognitiveclass.ai\"><img src = \"https://ibm.box.com/shared/static/9gegpsmnsoo25ikkbl4qzlvlyjbgxs5x.png\" width = 400> </a>\n\n<h1 align=center><font size = 5>From Problem to Approach</font></h1>",
   "metadata": {
    "button": false,
    "deletable": true,
    "new_sheet": false,
    "run_control": {
     "read_only": false
    },
    "cell_id": "5ff2e6ae-3624-4098-b67d-756c8c6716aa",
    "deepnote_cell_type": "markdown",
    "deepnote_cell_height": 278.20001220703125
   }
  },
  {
   "cell_type": "markdown",
   "source": "## Introduction\n\nThe aim of these labs is to reinforce the concepts that we discuss in each module's videos. These labs will revolve around the use case of food recipes, and together, we will walk through the process that data scientists usually follow when trying to solve a problem. Let's get started!\n\nIn this lab, we will start learning about the data science methodology, and focus on the **Business Understanding** and the **Analytic Approach** stages.\n\n------------",
   "metadata": {
    "button": false,
    "deletable": true,
    "new_sheet": false,
    "run_control": {
     "read_only": false
    },
    "cell_id": "00001-6f62659e-2cb4-4025-abb7-1199bd661730",
    "deepnote_cell_type": "markdown",
    "deepnote_cell_height": 226.75
   }
  },
  {
   "cell_type": "markdown",
   "source": "## Table of Contents\n\n<div class=\"alert alert-block alert-info\" style=\"margin-top: 20px\">\n\n1. [Business Understanding](#0)<br>\n2. [Analytic Approach](#2) <br>\n</div>\n<hr>",
   "metadata": {
    "button": false,
    "deletable": true,
    "new_sheet": false,
    "run_control": {
     "read_only": false
    },
    "cell_id": "00002-aae5640c-9a20-491f-a58f-cab07388c75e",
    "deepnote_cell_type": "markdown",
    "deepnote_cell_height": 215.78334045410156
   }
  },
  {
   "cell_type": "markdown",
   "source": "# Business Understanding <a id=\"0\"></a>",
   "metadata": {
    "button": false,
    "deletable": true,
    "new_sheet": false,
    "run_control": {
     "read_only": false
    },
    "cell_id": "00003-c530ad26-4e7c-49da-9fe4-e29eb6d7bce9",
    "deepnote_cell_type": "markdown",
    "deepnote_cell_height": 81.83332824707031
   }
  },
  {
   "cell_type": "markdown",
   "source": "This is the **Data Science Methodology**, a flowchart that begins with business understanding.",
   "metadata": {
    "button": false,
    "deletable": true,
    "new_sheet": false,
    "run_control": {
     "read_only": false
    },
    "cell_id": "00004-2f86902d-6fa3-4c2e-96d5-013789acf88c",
    "deepnote_cell_type": "markdown",
    "deepnote_cell_height": 52.23333740234375
   }
  },
  {
   "cell_type": "markdown",
   "source": "<img src=\"https://s3-api.us-geo.objectstorage.softlayer.net/cf-courses-data/CognitiveClass/DS0103EN/labs/images/lab1_fig1_flowchart_business_understanding.png\" width=500>",
   "metadata": {
    "button": false,
    "deletable": true,
    "new_sheet": false,
    "run_control": {
     "read_only": false
    },
    "cell_id": "00005-0213638e-9823-4d3f-877a-0be252449080",
    "deepnote_cell_type": "markdown",
    "deepnote_cell_height": 354.91668701171875
   }
  },
  {
   "cell_type": "markdown",
   "source": "#### Why is the business understanding stage important?",
   "metadata": {
    "button": false,
    "deletable": true,
    "new_sheet": false,
    "run_control": {
     "read_only": false
    },
    "cell_id": "00006-7fe1d9ea-0ff0-456d-8b4b-3162155f4d30",
    "deepnote_cell_type": "markdown",
    "deepnote_cell_height": 53.83332824707031
   }
  },
  {
   "cell_type": "code",
   "source": "Your Answer: \n\nyes\n",
   "metadata": {
    "button": false,
    "deletable": true,
    "new_sheet": false,
    "run_control": {
     "read_only": false
    },
    "cell_id": "00007-895c1d67-1c94-4c02-81ee-3305b8fb08e3",
    "deepnote_cell_type": "code",
    "deepnote_cell_height": 114.83332824707031
   },
   "execution_count": null,
   "outputs": []
  },
  {
   "cell_type": "markdown",
   "source": "Double-click __here__ for the solution.\n<!-- The correct answer is:\nIt helps clarify the goal of the entity asking the question.\n-->",
   "metadata": {
    "button": false,
    "deletable": true,
    "new_sheet": false,
    "run_control": {
     "read_only": false
    },
    "cell_id": "00008-8e444642-db7c-4736-b5b4-fbf41edf4a64",
    "deepnote_cell_type": "markdown",
    "deepnote_cell_height": 66.23333740234375
   }
  },
  {
   "cell_type": "markdown",
   "source": "#### Looking at this diagram, we immediately spot two outstanding features of the data science methodology.",
   "metadata": {
    "button": false,
    "deletable": true,
    "new_sheet": false,
    "run_control": {
     "read_only": false
    },
    "cell_id": "00009-76ae5bed-7987-4b3c-bd47-d020ba26bbbc",
    "deepnote_cell_type": "markdown",
    "deepnote_cell_height": 77.83332824707031
   }
  },
  {
   "cell_type": "markdown",
   "source": "<img src = \"https://s3-api.us-geo.objectstorage.softlayer.net/cf-courses-data/CognitiveClass/DS0103EN/labs/images/lab1_fig2_datascience_methodology_flowchart.png\" width = 500> ",
   "metadata": {
    "button": false,
    "deletable": true,
    "new_sheet": false,
    "run_control": {
     "read_only": false
    },
    "cell_id": "00010-5ee31d1d-e4db-471f-b363-c75d086390b4",
    "deepnote_cell_type": "markdown",
    "deepnote_cell_height": 369.73333740234375
   }
  },
  {
   "cell_type": "markdown",
   "source": "#### What are they?",
   "metadata": {
    "button": false,
    "deletable": true,
    "new_sheet": false,
    "run_control": {
     "read_only": false
    },
    "cell_id": "00011-da3f3449-112a-49fe-ab57-24b9740a469f",
    "deepnote_cell_type": "markdown",
    "deepnote_cell_height": 53.83332824707031
   }
  },
  {
   "cell_type": "code",
   "source": "Your Answer: \n1. Data Preparation\n2. business understanding",
   "metadata": {
    "button": false,
    "deletable": true,
    "new_sheet": false,
    "run_control": {
     "read_only": false
    },
    "cell_id": "00012-398a52e8-014a-45c2-9a8a-c1111c358492",
    "deepnote_to_be_reexecuted": false,
    "source_hash": "187f8986",
    "execution_start": 1663509787461,
    "execution_millis": 192,
    "deepnote_cell_type": "code",
    "deepnote_cell_height": 96.83332824707031
   },
   "execution_count": 1,
   "outputs": [
    {
     "output_type": "error",
     "ename": "SyntaxError",
     "evalue": "invalid syntax (4114301797.py, line 1)",
     "traceback": [
      "\u001b[0;36m  Cell \u001b[0;32mIn [1], line 1\u001b[0;36m\u001b[0m\n\u001b[0;31m    Your Answer:\u001b[0m\n\u001b[0m         ^\u001b[0m\n\u001b[0;31mSyntaxError\u001b[0m\u001b[0;31m:\u001b[0m invalid syntax\n"
     ]
    }
   ]
  },
  {
   "cell_type": "markdown",
   "source": "Double-click __here__ for the solution.\n<!--The correct answer is: \n\\\\ 1. The flowchart is highly iterative.\n\\\\ 2. The flowchart never ends. \n-->",
   "metadata": {
    "button": false,
    "deletable": true,
    "new_sheet": false,
    "run_control": {
     "read_only": false
    },
    "cell_id": "00013-18fe7ad2-5c12-4cb6-b338-20bb5c700909",
    "deepnote_cell_type": "markdown",
    "deepnote_cell_height": 66.23333740234375
   }
  },
  {
   "cell_type": "markdown",
   "source": "#### Now let's illustrate the data science methodology with a case study.",
   "metadata": {
    "button": false,
    "deletable": true,
    "new_sheet": false,
    "run_control": {
     "read_only": false
    },
    "cell_id": "00014-39c39d20-6426-4f08-9836-a8eca19742df",
    "deepnote_cell_type": "markdown",
    "deepnote_cell_height": 53.83332824707031
   }
  },
  {
   "cell_type": "markdown",
   "source": "Say, we are interested in automating the process of figuring out the cuisine of a given dish or recipe. Let's apply the business understanding stage to this problem.",
   "metadata": {
    "button": false,
    "deletable": true,
    "new_sheet": false,
    "run_control": {
     "read_only": false
    },
    "cell_id": "00015-426a32b2-e43a-4af4-8934-2dc1038b5043",
    "deepnote_cell_type": "markdown",
    "deepnote_cell_height": 74.63333129882812
   }
  },
  {
   "cell_type": "markdown",
   "source": "#### Q. Can we predict the cuisine of a given dish using the name of the dish only?",
   "metadata": {
    "button": false,
    "deletable": true,
    "new_sheet": false,
    "run_control": {
     "read_only": false
    },
    "cell_id": "00016-be7058e3-130a-4404-bef9-7627975647cf",
    "deepnote_cell_type": "markdown",
    "deepnote_cell_height": 53.83332824707031
   }
  },
  {
   "cell_type": "code",
   "source": "Your Answer:\nno\n",
   "metadata": {
    "button": false,
    "deletable": true,
    "new_sheet": false,
    "run_control": {
     "read_only": false
    },
    "cell_id": "00017-67c5c042-087d-468b-8490-343fca5e0f62",
    "deepnote_cell_type": "code",
    "deepnote_cell_height": 96.83332824707031
   },
   "execution_count": null,
   "outputs": []
  },
  {
   "cell_type": "markdown",
   "source": "Double-click __here__ for the solution.\n<!--The correct answer is: \nNo.\n-->",
   "metadata": {
    "button": false,
    "deletable": true,
    "new_sheet": false,
    "run_control": {
     "read_only": false
    },
    "cell_id": "00018-db45e0a9-f719-40d9-8823-4d0757a8e413",
    "deepnote_cell_type": "markdown",
    "deepnote_cell_height": 66.23333740234375
   }
  },
  {
   "cell_type": "markdown",
   "source": "#### Q. For example, the following dish names were taken from the menu of a local restaurant in Toronto, Ontario in Canada. \n\n#### 1. Beast\n#### 2. 2 PM\n#### 3. 4 Minute",
   "metadata": {
    "button": false,
    "deletable": true,
    "new_sheet": false,
    "run_control": {
     "read_only": false
    },
    "cell_id": "00019-45d9179b-97aa-4f27-b90c-3bdfbc26aa42",
    "deepnote_cell_type": "markdown",
    "deepnote_cell_height": 209.8333282470703
   }
  },
  {
   "cell_type": "markdown",
   "source": "#### Are you able to tell the cuisine of these dishes?",
   "metadata": {
    "button": false,
    "deletable": true,
    "new_sheet": false,
    "run_control": {
     "read_only": false
    },
    "cell_id": "00020-f9f96364-6205-4caf-b3a2-30a62275b1ae",
    "deepnote_cell_type": "markdown",
    "deepnote_cell_height": 53.83332824707031
   }
  },
  {
   "cell_type": "code",
   "source": "Your Answer:\nno\n",
   "metadata": {
    "button": false,
    "deletable": true,
    "new_sheet": false,
    "run_control": {
     "read_only": false
    },
    "cell_id": "00021-ff7bba08-1cd9-4a61-a355-c2f8fe30a8a4",
    "deepnote_cell_type": "code",
    "deepnote_cell_height": 96.83332824707031
   },
   "execution_count": null,
   "outputs": []
  },
  {
   "cell_type": "markdown",
   "source": "Double-click __here__ for the solution.\n<!--The correct answer is: \nThe cuisine is <strong>Japanese</strong>. Here are links to the images of the dishes: \n-->\n\n<!--\nBeast: https://ibm.box.com/shared/static/5e7duvewfl5bk4317sna5skvdhrehro2.png\n-->\n\n<!--\n2PM: https://ibm.box.com/shared/static/d9xuzqm8cq76zxxcc0f9gdts4iksipyk.png\n-->\n\n<!--\n4 Minute: https://ibm.box.com/shared/static/f1fwvvwn4u8rx8tghep6zyj5pi6a8v8k.png\n-->\n\n<!--\nPhotographs by Avlxyz: https://commons.wikimedia.org/wiki/Category:Photographs_by_Avlxyz\n-->",
   "metadata": {
    "button": false,
    "deletable": true,
    "new_sheet": false,
    "run_control": {
     "read_only": false
    },
    "cell_id": "00022-5cb41732-033e-4df6-b015-d655744648eb",
    "deepnote_cell_type": "markdown",
    "deepnote_cell_height": 66.23333740234375
   }
  },
  {
   "cell_type": "markdown",
   "source": "#### Q. What about by appearance only? Yes or No.",
   "metadata": {
    "button": false,
    "deletable": true,
    "new_sheet": false,
    "run_control": {
     "read_only": false
    },
    "cell_id": "00023-32e71fb6-c558-4965-8895-d2dce2df8c81",
    "deepnote_cell_type": "markdown",
    "deepnote_cell_height": 53.83332824707031
   }
  },
  {
   "cell_type": "code",
   "source": "Your Answer:\nyes\n",
   "metadata": {
    "button": false,
    "deletable": true,
    "new_sheet": false,
    "run_control": {
     "read_only": false
    },
    "cell_id": "00024-2b9d5de8-9359-44e6-9d30-b82c81d38beb",
    "deepnote_cell_type": "code",
    "deepnote_cell_height": 96.83332824707031
   },
   "execution_count": null,
   "outputs": []
  },
  {
   "cell_type": "markdown",
   "source": "Double-click __here__ for the solution.\n<!--The correct answer is: \nNo, especially when it comes to countries in close geographical proximity such as Scandinavian countries, or Asian countries.\n-->",
   "metadata": {
    "button": false,
    "deletable": true,
    "new_sheet": false,
    "run_control": {
     "read_only": false
    },
    "cell_id": "00025-9e0a2a7d-ecca-4a30-91e5-704fcddcc7b7",
    "deepnote_cell_type": "markdown",
    "deepnote_cell_height": 66.23333740234375
   }
  },
  {
   "cell_type": "markdown",
   "source": "At this point, we realize that automating the process of determining the cuisine of a given dish is not a straightforward problem as we need to come up with a way that is very robust to the many cuisines and their variations.",
   "metadata": {
    "button": false,
    "deletable": true,
    "new_sheet": false,
    "run_control": {
     "read_only": false
    },
    "cell_id": "00026-b9dc5e93-3cde-4437-8620-6e687495c82a",
    "deepnote_cell_type": "markdown",
    "deepnote_cell_height": 74.63333129882812
   }
  },
  {
   "cell_type": "markdown",
   "source": "#### Q. What about determining the cuisine of a dish based on its ingredients?",
   "metadata": {
    "button": false,
    "deletable": true,
    "new_sheet": false,
    "run_control": {
     "read_only": false
    },
    "cell_id": "00027-b86ab962-d0b9-41f7-bf30-c454e484d255",
    "deepnote_cell_type": "markdown",
    "deepnote_cell_height": 53.83332824707031
   }
  },
  {
   "cell_type": "code",
   "source": "Your Answer:\n\nyes",
   "metadata": {
    "button": false,
    "deletable": true,
    "new_sheet": false,
    "run_control": {
     "read_only": false
    },
    "cell_id": "00028-5d547316-a931-4c8e-97ca-a40994e02dac",
    "deepnote_cell_type": "code",
    "deepnote_cell_height": 96.83332824707031
   },
   "execution_count": null,
   "outputs": []
  },
  {
   "cell_type": "markdown",
   "source": "Double-click __here__ for the solution.\n<!--The correct answer is: \nPotentially yes, as there are specific ingredients unique to each cuisine.\n-->",
   "metadata": {
    "button": false,
    "deletable": true,
    "new_sheet": false,
    "run_control": {
     "read_only": false
    },
    "cell_id": "00029-97c7ea3b-f605-43d6-9b0d-028d3fd59824",
    "deepnote_cell_type": "markdown",
    "deepnote_cell_height": 66.23333740234375
   }
  },
  {
   "cell_type": "markdown",
   "source": "As you guessed, yes determining the cuisine of a given dish based on its ingredients seems like a viable solution as some ingredients are unique to cuisines. For example:",
   "metadata": {
    "button": false,
    "deletable": true,
    "new_sheet": false,
    "run_control": {
     "read_only": false
    },
    "cell_id": "00030-95e8a935-74ce-45e2-9fa1-8d803f72a241",
    "deepnote_cell_type": "markdown",
    "deepnote_cell_height": 74.63333129882812
   }
  },
  {
   "cell_type": "markdown",
   "source": "* When we talk about **American** cuisines, the first ingredient that comes to one's mind (or at least to my mind =D) is beef or turkey.\n\n* When we talk about **British** cuisines, the first ingredient that comes to one's mind is haddock or mint sauce.\n\n* When we talk about **Canadian** cuisines, the first ingredient that comes to one's mind is bacon or poutine.\n\n* When we talk about **French** cuisines, the first ingredient that comes to one's mind is bread or butter.\n\n* When we talk about **Italian** cuisines, the first ingredient that comes to one's mind is tomato or ricotta.\n\n* When we talk about **Japanese** cuisines, the first ingredient that comes to one's mind is seaweed or soy sauce.\n\n* When we talk about **Chinese** cuisines, the first ingredient that comes to one's mind is ginger or garlic.\n\n* When we talk about **indian** cuisines, the first ingredient that comes to one's mind is masala or chillis.",
   "metadata": {
    "button": false,
    "deletable": true,
    "new_sheet": false,
    "run_control": {
     "read_only": false
    },
    "cell_id": "00031-513dbf81-b189-4e2c-b3a7-2c2360a749d4",
    "deepnote_cell_type": "markdown",
    "deepnote_cell_height": 269.433349609375
   }
  },
  {
   "cell_type": "markdown",
   "source": "#### Accordingly, can you determine the cuisine of the dish associated with the following list of ingredients?",
   "metadata": {
    "button": false,
    "deletable": true,
    "new_sheet": false,
    "run_control": {
     "read_only": false
    },
    "cell_id": "00032-f90bd44f-6f6f-48c2-a946-23f3a9cab3b5",
    "deepnote_cell_type": "markdown",
    "deepnote_cell_height": 77.83332824707031
   }
  },
  {
   "cell_type": "markdown",
   "source": "<img src=\"https://s3-api.us-geo.objectstorage.softlayer.net/cf-courses-data/CognitiveClass/DS0103EN/labs/images/lab1_fig3_ingredients.png\" width=600>",
   "metadata": {
    "button": false,
    "deletable": true,
    "new_sheet": false,
    "run_control": {
     "read_only": false
    },
    "cell_id": "00033-06fd3c6f-91dc-47bb-8d37-bab92854f481",
    "deepnote_cell_type": "markdown",
    "deepnote_cell_height": 69.83332824707031
   }
  },
  {
   "cell_type": "markdown",
   "source": "Your Answer:\nChinese\n\n",
   "metadata": {
    "button": false,
    "deletable": true,
    "new_sheet": false,
    "run_control": {
     "read_only": false
    },
    "cell_id": "00034-4ba3e138-9f51-4fc1-8a98-df6472400526",
    "deepnote_cell_type": "markdown",
    "deepnote_cell_height": 74.63333129882812
   }
  },
  {
   "cell_type": "markdown",
   "source": "Double-click __here__ for the solution.\n<!--The correct answer is: \nJapanese since the recipe is most likely that of a sushi roll.\n-->",
   "metadata": {
    "button": false,
    "deletable": true,
    "new_sheet": false,
    "run_control": {
     "read_only": false
    },
    "cell_id": "00035-a2e65c2a-e1e6-4fae-8498-252943369eab",
    "deepnote_cell_type": "markdown",
    "deepnote_cell_height": 66.23333740234375
   }
  },
  {
   "cell_type": "markdown",
   "source": "# Analytic Approach <a id=\"2\"></a>",
   "metadata": {
    "button": false,
    "deletable": true,
    "new_sheet": false,
    "run_control": {
     "read_only": false
    },
    "cell_id": "00036-e211828a-90bc-41dd-b595-5efbaad9f6e9",
    "deepnote_cell_type": "markdown",
    "deepnote_cell_height": 81.83332824707031
   }
  },
  {
   "cell_type": "markdown",
   "source": "<img src=\"https://s3-api.us-geo.objectstorage.softlayer.net/cf-courses-data/CognitiveClass/DS0103EN/labs/images/lab1_fig4_flowchart_analytic_approach.png\" width=500>",
   "metadata": {
    "button": false,
    "deletable": true,
    "new_sheet": false,
    "run_control": {
     "read_only": false
    },
    "cell_id": "00037-34babad7-337d-4852-b202-33c81ae5b10c",
    "deepnote_cell_type": "markdown",
    "deepnote_cell_height": 69.83332824707031
   }
  },
  {
   "cell_type": "markdown",
   "source": "#### So why are we interested in data science?",
   "metadata": {
    "button": false,
    "deletable": true,
    "new_sheet": false,
    "run_control": {
     "read_only": false
    },
    "cell_id": "00038-86dcb2c1-3e13-484e-8b4c-454abf8f7c1a",
    "deepnote_cell_type": "markdown",
    "deepnote_cell_height": 53.83332824707031
   }
  },
  {
   "cell_type": "markdown",
   "source": "Once the business problem has been clearly stated, the data scientist can define the analytic approach to solve the problem. This step entails expressing the problem in the context of statistical and machine-learning techniques, so that the entity or stakeholders with the problem can identify the most suitable techniques for the desired outcome. ",
   "metadata": {
    "button": false,
    "deletable": true,
    "new_sheet": false,
    "run_control": {
     "read_only": false
    },
    "cell_id": "00039-507e6adb-3f55-4402-8ee7-dd97c0746c5d",
    "deepnote_cell_type": "markdown",
    "deepnote_cell_height": 97.03334045410156
   }
  },
  {
   "cell_type": "markdown",
   "source": "#### Why is the analytic approach stage important?",
   "metadata": {
    "button": false,
    "deletable": true,
    "new_sheet": false,
    "run_control": {
     "read_only": false
    },
    "cell_id": "00040-5fb6ffca-1c1c-4735-b771-0c806f3b95ac",
    "deepnote_cell_type": "markdown",
    "deepnote_cell_height": 53.83332824707031
   }
  },
  {
   "cell_type": "code",
   "source": "Your Answer:\nbecause we can chose the right technique to solve the problem\n",
   "metadata": {
    "button": false,
    "deletable": true,
    "new_sheet": false,
    "run_control": {
     "read_only": false
    },
    "cell_id": "00041-b85406b0-722d-4a9f-b129-f19e86ba3472",
    "deepnote_cell_type": "code",
    "deepnote_cell_height": 96.83332824707031
   },
   "execution_count": null,
   "outputs": []
  },
  {
   "cell_type": "markdown",
   "source": "Double-click __here__ for the solution.\n<!--The correct answer is: \nBecause it helps identify what type of patterns will be needed to address the question most effectively.\n-->",
   "metadata": {
    "button": false,
    "deletable": true,
    "new_sheet": false,
    "run_control": {
     "read_only": false
    },
    "cell_id": "00042-9511fdb1-bfd6-49d4-965b-d63aafefbdc6",
    "deepnote_cell_type": "markdown",
    "deepnote_cell_height": 66.23333740234375
   }
  },
  {
   "cell_type": "markdown",
   "source": "#### Let's explore a machine learning algorithm, decision trees, and see if it is the right technique to automate the process of identifying the cuisine of a given dish or recipe while simultaneously providing us with some insight on why a given recipe is believed to belong to a certain type of cuisine.",
   "metadata": {
    "button": false,
    "deletable": true,
    "new_sheet": false,
    "run_control": {
     "read_only": false
    },
    "cell_id": "00043-c77f4a85-a62f-4e21-b85d-b24c9d588818",
    "deepnote_cell_type": "markdown",
    "deepnote_cell_height": 101.83332824707031
   }
  },
  {
   "cell_type": "markdown",
   "source": "This is a decision tree that a naive person might create manually. Starting at the top with all the recipes for all the cuisines in the world, if a recipe contains **rice**, then this decision tree would classify it as a **Japanese** cuisine. Otherwise, it would be classified as not a **Japanese** cuisine.",
   "metadata": {
    "button": false,
    "deletable": true,
    "new_sheet": false,
    "run_control": {
     "read_only": false
    },
    "cell_id": "00044-1241c236-2da6-42e0-8346-44f93789ebdf",
    "deepnote_cell_type": "markdown",
    "deepnote_cell_height": 97.03334045410156
   }
  },
  {
   "cell_type": "markdown",
   "source": "<img src=\"https://s3-api.us-geo.objectstorage.softlayer.net/cf-courses-data/CognitiveClass/DS0103EN/labs/images/lab1_fig5_decision_tree_3.png\" width=500>",
   "metadata": {
    "button": false,
    "deletable": true,
    "new_sheet": false,
    "run_control": {
     "read_only": false
    },
    "cell_id": "00045-a7aee7b8-cb68-46a3-98a0-020dd7220c1c",
    "deepnote_cell_type": "markdown",
    "deepnote_cell_height": 69.83332824707031
   }
  },
  {
   "cell_type": "markdown",
   "source": "#### Is this a good decision tree?  Yes or  No, and why? ",
   "metadata": {
    "button": false,
    "deletable": true,
    "new_sheet": false,
    "run_control": {
     "read_only": false
    },
    "cell_id": "00046-0ee83a93-bcb4-441c-b323-230395dcc75f",
    "deepnote_cell_type": "markdown",
    "deepnote_cell_height": 53.83332824707031
   }
  },
  {
   "cell_type": "code",
   "source": "Your Answer:\nNo because there is rice into chinese food too\n",
   "metadata": {
    "button": false,
    "deletable": true,
    "new_sheet": false,
    "run_control": {
     "read_only": false
    },
    "cell_id": "00047-bcb09576-16ab-4c7d-a159-01d10367e618",
    "deepnote_cell_type": "code",
    "deepnote_cell_height": 96.83332824707031
   },
   "execution_count": null,
   "outputs": []
  },
  {
   "cell_type": "markdown",
   "source": "Double-click __here__ for the solution.\n<!--The correct answer is: \nNo, because a plethora of dishes from other cuisines contain rice. Therefore, using rice as the ingredient in the Decision node to split on is not a good choice.\n-->",
   "metadata": {
    "button": false,
    "deletable": true,
    "new_sheet": false,
    "run_control": {
     "read_only": false
    },
    "cell_id": "00048-25bceda1-ab08-4e23-b3a6-145b44c041b9",
    "deepnote_cell_type": "markdown",
    "deepnote_cell_height": 66.23333740234375
   }
  },
  {
   "cell_type": "markdown",
   "source": "#### In order to build a very powerful decision tree for the recipe case study, let's take some time to learn more about decision trees.",
   "metadata": {
    "button": false,
    "deletable": true,
    "new_sheet": false,
    "run_control": {
     "read_only": false
    },
    "cell_id": "00049-c20de852-bd1d-485a-9260-a6b384510e84",
    "deepnote_cell_type": "markdown",
    "deepnote_cell_height": 77.83332824707031
   }
  },
  {
   "cell_type": "markdown",
   "source": "* Decision trees are built using recursive partitioning to classify the data.\n* When partitioning the data, decision trees use the most predictive feature (ingredient in this case) to split the data.\n* **Predictiveness** is based on decrease in entropy - gain in information, or *impurity*.",
   "metadata": {
    "button": false,
    "deletable": true,
    "new_sheet": false,
    "run_control": {
     "read_only": false
    },
    "cell_id": "00050-035132eb-1ff6-474e-83b8-e4f9f86e01c9",
    "deepnote_cell_type": "markdown",
    "deepnote_cell_height": 121.43333435058594
   }
  },
  {
   "cell_type": "markdown",
   "source": "#### Suppose that our data is comprised of green triangles and red circles.",
   "metadata": {
    "button": false,
    "deletable": true,
    "new_sheet": false,
    "run_control": {
     "read_only": false
    },
    "cell_id": "00051-5c73e046-a3b9-49c0-aa72-a3785957eec0",
    "deepnote_cell_type": "markdown",
    "deepnote_cell_height": 53.83332824707031
   }
  },
  {
   "cell_type": "markdown",
   "source": "The following decision tree would be considered the optimal model for classifying the data into a node for green triangles and a node for red circles.",
   "metadata": {
    "button": false,
    "deletable": true,
    "new_sheet": false,
    "run_control": {
     "read_only": false
    },
    "cell_id": "00052-442b8a38-fda4-48f1-8a14-42ef1f8f17e5",
    "deepnote_cell_type": "markdown",
    "deepnote_cell_height": 74.63333129882812
   }
  },
  {
   "cell_type": "markdown",
   "source": "<img src=\"https://s3-api.us-geo.objectstorage.softlayer.net/cf-courses-data/CognitiveClass/DS0103EN/labs/images/lab1_fig6_decision_tree_5.png\" width=400>",
   "metadata": {
    "button": false,
    "deletable": true,
    "new_sheet": false,
    "run_control": {
     "read_only": false
    },
    "cell_id": "00053-908ef024-c41f-49a1-a0df-bac16346cf1b",
    "deepnote_cell_type": "markdown",
    "deepnote_cell_height": 69.83332824707031
   }
  },
  {
   "cell_type": "markdown",
   "source": "Each of the classes in the leaf nodes are completely pure – that is, each leaf node only contains datapoints that belong to the same class.",
   "metadata": {
    "button": false,
    "deletable": true,
    "new_sheet": false,
    "run_control": {
     "read_only": false
    },
    "cell_id": "00054-a6032863-439c-44d1-9f1b-bf573f1badfd",
    "deepnote_cell_type": "markdown",
    "deepnote_cell_height": 74.63333129882812
   }
  },
  {
   "cell_type": "markdown",
   "source": "On the other hand, the following decision tree is an example of the worst-case scenario that the model could output. ",
   "metadata": {
    "button": false,
    "deletable": true,
    "new_sheet": false,
    "run_control": {
     "read_only": false
    },
    "cell_id": "00055-1d3d9c87-8423-4d4f-bb92-9cb475ab5388",
    "deepnote_cell_type": "markdown",
    "deepnote_cell_height": 52.23333740234375
   }
  },
  {
   "cell_type": "markdown",
   "source": "<img src=\"https://s3-api.us-geo.objectstorage.softlayer.net/cf-courses-data/CognitiveClass/DS0103EN/labs/images/lab1_fig7_decision_tree_2.png\" width=500>",
   "metadata": {
    "button": false,
    "deletable": true,
    "new_sheet": false,
    "run_control": {
     "read_only": false
    },
    "cell_id": "00056-6883100d-fab7-4cab-9968-8af31984b019",
    "deepnote_cell_type": "markdown",
    "deepnote_cell_height": 69.83332824707031
   }
  },
  {
   "cell_type": "markdown",
   "source": "Each leaf node contains datapoints belonging to the two classes resulting in many datapoints ultimately being misclassified.",
   "metadata": {
    "button": false,
    "deletable": true,
    "new_sheet": false,
    "run_control": {
     "read_only": false
    },
    "cell_id": "00057-467dc077-019e-4d1e-be02-6149b29021bf",
    "deepnote_cell_type": "markdown",
    "deepnote_cell_height": 52.23333740234375
   }
  },
  {
   "cell_type": "markdown",
   "source": "#### A tree stops growing at a node when:\n* Pure or nearly pure.\n* No remaining variables on which to further subset the data.\n* The tree has grown to a preselected size limit.",
   "metadata": {
    "button": false,
    "deletable": true,
    "new_sheet": false,
    "run_control": {
     "read_only": false
    },
    "cell_id": "00058-9678aade-26d8-46ae-a327-47836c747462",
    "deepnote_cell_type": "markdown",
    "deepnote_cell_height": 154.43333435058594
   }
  },
  {
   "cell_type": "markdown",
   "source": "#### Here are some characteristics of decision trees:",
   "metadata": {
    "button": false,
    "deletable": true,
    "new_sheet": false,
    "run_control": {
     "read_only": false
    },
    "cell_id": "00059-a8c67548-9376-4446-800f-92034e6afd6c",
    "deepnote_cell_type": "markdown",
    "deepnote_cell_height": 53.83332824707031
   }
  },
  {
   "cell_type": "markdown",
   "source": "<img src=\"https://s3-api.us-geo.objectstorage.softlayer.net/cf-courses-data/CognitiveClass/DS0103EN/labs/images/lab1_fig8_decision_trees_table.png\" width=800>",
   "metadata": {
    "button": false,
    "deletable": true,
    "new_sheet": false,
    "run_control": {
     "read_only": false
    },
    "cell_id": "00060-6575e20c-63f6-4cfd-9339-91e2c8fe4185",
    "deepnote_cell_type": "markdown",
    "deepnote_cell_height": 69.83332824707031
   }
  },
  {
   "cell_type": "markdown",
   "source": "Now let's put what we learned about decision trees to use. Let's try and build a much better version of the decision tree for our recipe problem.",
   "metadata": {
    "button": false,
    "deletable": true,
    "new_sheet": false,
    "run_control": {
     "read_only": false
    },
    "cell_id": "00061-3e2359d4-5a1e-48d7-a604-f86a80eb691c",
    "deepnote_cell_type": "markdown",
    "deepnote_cell_height": 74.63333129882812
   }
  },
  {
   "cell_type": "markdown",
   "source": "<img src=\"https://s3-api.us-geo.objectstorage.softlayer.net/cf-courses-data/CognitiveClass/DS0103EN/labs/images/lab1_fig9_decision_tree_4.png\" width = 500>",
   "metadata": {
    "button": false,
    "deletable": true,
    "new_sheet": false,
    "run_control": {
     "read_only": false
    },
    "cell_id": "00062-4ef5f7d7-1545-4549-be43-33b1c4d4efb9",
    "deepnote_cell_type": "markdown",
    "deepnote_cell_height": 69.83332824707031
   }
  },
  {
   "cell_type": "markdown",
   "source": "I hope you agree that the above decision tree is a much better version than the previous one. Although we are still using **Rice** as the ingredient in the first *decision node*, recipes get divided into **Asian Food** and **Non-Asian Food**. **Asian Food** is then further divided into **Japanese** and **Not Japanese** based on the **Wasabi** ingredient. This process of splitting *leaf nodes* continues until each *leaf node* is pure, i.e., containing recipes belonging to only one cuisine.",
   "metadata": {
    "button": false,
    "deletable": true,
    "new_sheet": false,
    "run_control": {
     "read_only": false
    },
    "cell_id": "00063-e1439aac-e82a-4c77-9caf-1b6d8e68f846",
    "deepnote_cell_type": "markdown",
    "deepnote_cell_height": 119.43333435058594
   }
  },
  {
   "cell_type": "markdown",
   "source": "Accordingly, decision trees is a suitable technique or algorithm for our recipe case study.",
   "metadata": {
    "button": false,
    "deletable": true,
    "new_sheet": false,
    "run_control": {
     "read_only": false
    },
    "cell_id": "00064-2f135931-c774-4a27-b4b6-4d76a43b60b6",
    "deepnote_cell_type": "markdown",
    "deepnote_cell_height": 52.23333740234375
   }
  },
  {
   "cell_type": "markdown",
   "source": "### Thank you for completing this lab!\n\nThis notebook was created by [Alex Aklson](https://www.linkedin.com/in/aklson/). I hope you found this lab session interesting. Feel free to contact me if you have any questions!",
   "metadata": {
    "button": false,
    "deletable": true,
    "new_sheet": false,
    "run_control": {
     "read_only": false
    },
    "cell_id": "00065-ec7bb4f7-7c9a-40a5-bfbc-00a357e0701e",
    "deepnote_cell_type": "markdown",
    "deepnote_cell_height": 122.63333129882812
   }
  },
  {
   "cell_type": "markdown",
   "source": "This notebook is part of a course on **Coursera** called *Data Science Methodology*. If you accessed this notebook outside the course, you can take this course, online by clicking [here](http://cocl.us/DS0103EN_Coursera_LAB1).",
   "metadata": {
    "button": false,
    "deletable": true,
    "new_sheet": false,
    "run_control": {
     "read_only": false
    },
    "cell_id": "00066-4cfa51b8-46fd-4308-952f-841a177b2d15",
    "deepnote_cell_type": "markdown",
    "deepnote_cell_height": 74.63333129882812
   }
  },
  {
   "cell_type": "markdown",
   "source": "<hr>\n\nCopyright &copy; 2019 [Cognitive Class](https://cognitiveclass.ai/?utm_source=bducopyrightlink&utm_medium=dswb&utm_campaign=bdu). This notebook and its source code are released under the terms of the [MIT License](https://bigdatauniversity.com/mit-license/).",
   "metadata": {
    "button": false,
    "deletable": true,
    "new_sheet": false,
    "run_control": {
     "read_only": false
    },
    "cell_id": "00067-7ed307bb-75e8-424f-80d5-d9c42b6c2614",
    "deepnote_cell_type": "markdown",
    "deepnote_cell_height": 53.149993896484375
   }
  },
  {
   "cell_type": "markdown",
   "source": "<a style='text-decoration:none;line-height:16px;display:flex;color:#5B5B62;padding:10px;justify-content:end;' href='https://deepnote.com?utm_source=created-in-deepnote-cell&projectId=04214720-281e-4c50-9595-34ca051acd69' target=\"_blank\">\n<img alt='Created in deepnote.com' style='display:inline;max-height:16px;margin:0px;margin-right:7.5px;' src='data:image/svg+xml;base64,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' > </img>\nCreated in <span style='font-weight:600;margin-left:4px;'>Deepnote</span></a>",
   "metadata": {
    "tags": [],
    "created_in_deepnote_cell": true,
    "deepnote_cell_type": "markdown"
   }
  }
 ],
 "nbformat": 4,
 "nbformat_minor": 4,
 "metadata": {
  "kernelspec": {
   "display_name": "Python",
   "language": "python",
   "name": "conda-env-python-py"
  },
  "language_info": {
   "codemirror_mode": {
    "name": "ipython",
    "version": 3
   },
   "file_extension": ".py",
   "mimetype": "text/x-python",
   "name": "python",
   "nbconvert_exporter": "python",
   "pygments_lexer": "ipython3",
   "version": "3.6.7"
  },
  "widgets": {
   "state": {},
   "version": "1.1.2"
  },
  "deepnote_notebook_id": "24688fbb-a398-4fe4-947a-9d17c42489a9",
  "deepnote": {},
  "deepnote_execution_queue": []
 }
}